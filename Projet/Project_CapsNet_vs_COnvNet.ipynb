{
  "nbformat": 4,
  "nbformat_minor": 0,
  "metadata": {
    "accelerator": "GPU",
    "colab": {
      "name": " Project CapsNet vs COnvNet.ipynb",
      "provenance": [],
      "collapsed_sections": []
    },
    "kernelspec": {
      "display_name": "Python 3",
      "name": "python3"
    },
    "language_info": {
      "name": "python"
    },
    "widgets": {
      "application/vnd.jupyter.widget-state+json": {
        "3c0f10e575094eaaa80c1db14358b9b6": {
          "model_module": "@jupyter-widgets/controls",
          "model_name": "HBoxModel",
          "state": {
            "_view_name": "HBoxView",
            "_dom_classes": [],
            "_model_name": "HBoxModel",
            "_view_module": "@jupyter-widgets/controls",
            "_model_module_version": "1.5.0",
            "_view_count": null,
            "_view_module_version": "1.5.0",
            "box_style": "",
            "layout": "IPY_MODEL_30ee181999d0447c8954b6d8a51592a1",
            "_model_module": "@jupyter-widgets/controls",
            "children": [
              "IPY_MODEL_f17fb78b98b64f0494d44235ea46717b",
              "IPY_MODEL_8ffcfc291e8346588de641f92e554e7a"
            ]
          }
        },
        "30ee181999d0447c8954b6d8a51592a1": {
          "model_module": "@jupyter-widgets/base",
          "model_name": "LayoutModel",
          "state": {
            "_view_name": "LayoutView",
            "grid_template_rows": null,
            "right": null,
            "justify_content": null,
            "_view_module": "@jupyter-widgets/base",
            "overflow": null,
            "_model_module_version": "1.2.0",
            "_view_count": null,
            "flex_flow": null,
            "width": null,
            "min_width": null,
            "border": null,
            "align_items": null,
            "bottom": null,
            "_model_module": "@jupyter-widgets/base",
            "top": null,
            "grid_column": null,
            "overflow_y": null,
            "overflow_x": null,
            "grid_auto_flow": null,
            "grid_area": null,
            "grid_template_columns": null,
            "flex": null,
            "_model_name": "LayoutModel",
            "justify_items": null,
            "grid_row": null,
            "max_height": null,
            "align_content": null,
            "visibility": null,
            "align_self": null,
            "height": null,
            "min_height": null,
            "padding": null,
            "grid_auto_rows": null,
            "grid_gap": null,
            "max_width": null,
            "order": null,
            "_view_module_version": "1.2.0",
            "grid_template_areas": null,
            "object_position": null,
            "object_fit": null,
            "grid_auto_columns": null,
            "margin": null,
            "display": null,
            "left": null
          }
        },
        "f17fb78b98b64f0494d44235ea46717b": {
          "model_module": "@jupyter-widgets/controls",
          "model_name": "FloatProgressModel",
          "state": {
            "_view_name": "ProgressView",
            "style": "IPY_MODEL_73942cd1ad8f44f2a823b5bcee97e87b",
            "_dom_classes": [],
            "description": "",
            "_model_name": "FloatProgressModel",
            "bar_style": "success",
            "max": 9912422,
            "_view_module": "@jupyter-widgets/controls",
            "_model_module_version": "1.5.0",
            "value": 9912422,
            "_view_count": null,
            "_view_module_version": "1.5.0",
            "orientation": "horizontal",
            "min": 0,
            "description_tooltip": null,
            "_model_module": "@jupyter-widgets/controls",
            "layout": "IPY_MODEL_1c1da47ec1914a99a424ff0cd735b98d"
          }
        },
        "8ffcfc291e8346588de641f92e554e7a": {
          "model_module": "@jupyter-widgets/controls",
          "model_name": "HTMLModel",
          "state": {
            "_view_name": "HTMLView",
            "style": "IPY_MODEL_49147409af1d42e6a0970fe692282c5d",
            "_dom_classes": [],
            "description": "",
            "_model_name": "HTMLModel",
            "placeholder": "​",
            "_view_module": "@jupyter-widgets/controls",
            "_model_module_version": "1.5.0",
            "value": " 9913344/? [03:54&lt;00:00, 42350.83it/s]",
            "_view_count": null,
            "_view_module_version": "1.5.0",
            "description_tooltip": null,
            "_model_module": "@jupyter-widgets/controls",
            "layout": "IPY_MODEL_044d7c22a71f4bcb8665c3756c3bfded"
          }
        },
        "73942cd1ad8f44f2a823b5bcee97e87b": {
          "model_module": "@jupyter-widgets/controls",
          "model_name": "ProgressStyleModel",
          "state": {
            "_view_name": "StyleView",
            "_model_name": "ProgressStyleModel",
            "description_width": "initial",
            "_view_module": "@jupyter-widgets/base",
            "_model_module_version": "1.5.0",
            "_view_count": null,
            "_view_module_version": "1.2.0",
            "bar_color": null,
            "_model_module": "@jupyter-widgets/controls"
          }
        },
        "1c1da47ec1914a99a424ff0cd735b98d": {
          "model_module": "@jupyter-widgets/base",
          "model_name": "LayoutModel",
          "state": {
            "_view_name": "LayoutView",
            "grid_template_rows": null,
            "right": null,
            "justify_content": null,
            "_view_module": "@jupyter-widgets/base",
            "overflow": null,
            "_model_module_version": "1.2.0",
            "_view_count": null,
            "flex_flow": null,
            "width": null,
            "min_width": null,
            "border": null,
            "align_items": null,
            "bottom": null,
            "_model_module": "@jupyter-widgets/base",
            "top": null,
            "grid_column": null,
            "overflow_y": null,
            "overflow_x": null,
            "grid_auto_flow": null,
            "grid_area": null,
            "grid_template_columns": null,
            "flex": null,
            "_model_name": "LayoutModel",
            "justify_items": null,
            "grid_row": null,
            "max_height": null,
            "align_content": null,
            "visibility": null,
            "align_self": null,
            "height": null,
            "min_height": null,
            "padding": null,
            "grid_auto_rows": null,
            "grid_gap": null,
            "max_width": null,
            "order": null,
            "_view_module_version": "1.2.0",
            "grid_template_areas": null,
            "object_position": null,
            "object_fit": null,
            "grid_auto_columns": null,
            "margin": null,
            "display": null,
            "left": null
          }
        },
        "49147409af1d42e6a0970fe692282c5d": {
          "model_module": "@jupyter-widgets/controls",
          "model_name": "DescriptionStyleModel",
          "state": {
            "_view_name": "StyleView",
            "_model_name": "DescriptionStyleModel",
            "description_width": "",
            "_view_module": "@jupyter-widgets/base",
            "_model_module_version": "1.5.0",
            "_view_count": null,
            "_view_module_version": "1.2.0",
            "_model_module": "@jupyter-widgets/controls"
          }
        },
        "044d7c22a71f4bcb8665c3756c3bfded": {
          "model_module": "@jupyter-widgets/base",
          "model_name": "LayoutModel",
          "state": {
            "_view_name": "LayoutView",
            "grid_template_rows": null,
            "right": null,
            "justify_content": null,
            "_view_module": "@jupyter-widgets/base",
            "overflow": null,
            "_model_module_version": "1.2.0",
            "_view_count": null,
            "flex_flow": null,
            "width": null,
            "min_width": null,
            "border": null,
            "align_items": null,
            "bottom": null,
            "_model_module": "@jupyter-widgets/base",
            "top": null,
            "grid_column": null,
            "overflow_y": null,
            "overflow_x": null,
            "grid_auto_flow": null,
            "grid_area": null,
            "grid_template_columns": null,
            "flex": null,
            "_model_name": "LayoutModel",
            "justify_items": null,
            "grid_row": null,
            "max_height": null,
            "align_content": null,
            "visibility": null,
            "align_self": null,
            "height": null,
            "min_height": null,
            "padding": null,
            "grid_auto_rows": null,
            "grid_gap": null,
            "max_width": null,
            "order": null,
            "_view_module_version": "1.2.0",
            "grid_template_areas": null,
            "object_position": null,
            "object_fit": null,
            "grid_auto_columns": null,
            "margin": null,
            "display": null,
            "left": null
          }
        },
        "0d32d08d28d1421cb83f2442ac3b9a56": {
          "model_module": "@jupyter-widgets/controls",
          "model_name": "HBoxModel",
          "state": {
            "_view_name": "HBoxView",
            "_dom_classes": [],
            "_model_name": "HBoxModel",
            "_view_module": "@jupyter-widgets/controls",
            "_model_module_version": "1.5.0",
            "_view_count": null,
            "_view_module_version": "1.5.0",
            "box_style": "",
            "layout": "IPY_MODEL_0744d0af3c8444c79f9d27220da4a113",
            "_model_module": "@jupyter-widgets/controls",
            "children": [
              "IPY_MODEL_cb21b424732348c8bfa866762592c2f2",
              "IPY_MODEL_2ca58806d0004c46a1dcf042584fb46e"
            ]
          }
        },
        "0744d0af3c8444c79f9d27220da4a113": {
          "model_module": "@jupyter-widgets/base",
          "model_name": "LayoutModel",
          "state": {
            "_view_name": "LayoutView",
            "grid_template_rows": null,
            "right": null,
            "justify_content": null,
            "_view_module": "@jupyter-widgets/base",
            "overflow": null,
            "_model_module_version": "1.2.0",
            "_view_count": null,
            "flex_flow": null,
            "width": null,
            "min_width": null,
            "border": null,
            "align_items": null,
            "bottom": null,
            "_model_module": "@jupyter-widgets/base",
            "top": null,
            "grid_column": null,
            "overflow_y": null,
            "overflow_x": null,
            "grid_auto_flow": null,
            "grid_area": null,
            "grid_template_columns": null,
            "flex": null,
            "_model_name": "LayoutModel",
            "justify_items": null,
            "grid_row": null,
            "max_height": null,
            "align_content": null,
            "visibility": null,
            "align_self": null,
            "height": null,
            "min_height": null,
            "padding": null,
            "grid_auto_rows": null,
            "grid_gap": null,
            "max_width": null,
            "order": null,
            "_view_module_version": "1.2.0",
            "grid_template_areas": null,
            "object_position": null,
            "object_fit": null,
            "grid_auto_columns": null,
            "margin": null,
            "display": null,
            "left": null
          }
        },
        "cb21b424732348c8bfa866762592c2f2": {
          "model_module": "@jupyter-widgets/controls",
          "model_name": "FloatProgressModel",
          "state": {
            "_view_name": "ProgressView",
            "style": "IPY_MODEL_50a694a5e7fd4e1c9671598ae373f21e",
            "_dom_classes": [],
            "description": "",
            "_model_name": "FloatProgressModel",
            "bar_style": "success",
            "max": 28881,
            "_view_module": "@jupyter-widgets/controls",
            "_model_module_version": "1.5.0",
            "value": 28881,
            "_view_count": null,
            "_view_module_version": "1.5.0",
            "orientation": "horizontal",
            "min": 0,
            "description_tooltip": null,
            "_model_module": "@jupyter-widgets/controls",
            "layout": "IPY_MODEL_251e8cc1003b4ed594baa247376e9569"
          }
        },
        "2ca58806d0004c46a1dcf042584fb46e": {
          "model_module": "@jupyter-widgets/controls",
          "model_name": "HTMLModel",
          "state": {
            "_view_name": "HTMLView",
            "style": "IPY_MODEL_8aaca643ec4b4e1ea211339deb4c809d",
            "_dom_classes": [],
            "description": "",
            "_model_name": "HTMLModel",
            "placeholder": "​",
            "_view_module": "@jupyter-widgets/controls",
            "_model_module_version": "1.5.0",
            "value": " 29696/? [00:02&lt;00:00, 11509.91it/s]",
            "_view_count": null,
            "_view_module_version": "1.5.0",
            "description_tooltip": null,
            "_model_module": "@jupyter-widgets/controls",
            "layout": "IPY_MODEL_253686f7ced849a0b7fec9070cb4ed41"
          }
        },
        "50a694a5e7fd4e1c9671598ae373f21e": {
          "model_module": "@jupyter-widgets/controls",
          "model_name": "ProgressStyleModel",
          "state": {
            "_view_name": "StyleView",
            "_model_name": "ProgressStyleModel",
            "description_width": "initial",
            "_view_module": "@jupyter-widgets/base",
            "_model_module_version": "1.5.0",
            "_view_count": null,
            "_view_module_version": "1.2.0",
            "bar_color": null,
            "_model_module": "@jupyter-widgets/controls"
          }
        },
        "251e8cc1003b4ed594baa247376e9569": {
          "model_module": "@jupyter-widgets/base",
          "model_name": "LayoutModel",
          "state": {
            "_view_name": "LayoutView",
            "grid_template_rows": null,
            "right": null,
            "justify_content": null,
            "_view_module": "@jupyter-widgets/base",
            "overflow": null,
            "_model_module_version": "1.2.0",
            "_view_count": null,
            "flex_flow": null,
            "width": null,
            "min_width": null,
            "border": null,
            "align_items": null,
            "bottom": null,
            "_model_module": "@jupyter-widgets/base",
            "top": null,
            "grid_column": null,
            "overflow_y": null,
            "overflow_x": null,
            "grid_auto_flow": null,
            "grid_area": null,
            "grid_template_columns": null,
            "flex": null,
            "_model_name": "LayoutModel",
            "justify_items": null,
            "grid_row": null,
            "max_height": null,
            "align_content": null,
            "visibility": null,
            "align_self": null,
            "height": null,
            "min_height": null,
            "padding": null,
            "grid_auto_rows": null,
            "grid_gap": null,
            "max_width": null,
            "order": null,
            "_view_module_version": "1.2.0",
            "grid_template_areas": null,
            "object_position": null,
            "object_fit": null,
            "grid_auto_columns": null,
            "margin": null,
            "display": null,
            "left": null
          }
        },
        "8aaca643ec4b4e1ea211339deb4c809d": {
          "model_module": "@jupyter-widgets/controls",
          "model_name": "DescriptionStyleModel",
          "state": {
            "_view_name": "StyleView",
            "_model_name": "DescriptionStyleModel",
            "description_width": "",
            "_view_module": "@jupyter-widgets/base",
            "_model_module_version": "1.5.0",
            "_view_count": null,
            "_view_module_version": "1.2.0",
            "_model_module": "@jupyter-widgets/controls"
          }
        },
        "253686f7ced849a0b7fec9070cb4ed41": {
          "model_module": "@jupyter-widgets/base",
          "model_name": "LayoutModel",
          "state": {
            "_view_name": "LayoutView",
            "grid_template_rows": null,
            "right": null,
            "justify_content": null,
            "_view_module": "@jupyter-widgets/base",
            "overflow": null,
            "_model_module_version": "1.2.0",
            "_view_count": null,
            "flex_flow": null,
            "width": null,
            "min_width": null,
            "border": null,
            "align_items": null,
            "bottom": null,
            "_model_module": "@jupyter-widgets/base",
            "top": null,
            "grid_column": null,
            "overflow_y": null,
            "overflow_x": null,
            "grid_auto_flow": null,
            "grid_area": null,
            "grid_template_columns": null,
            "flex": null,
            "_model_name": "LayoutModel",
            "justify_items": null,
            "grid_row": null,
            "max_height": null,
            "align_content": null,
            "visibility": null,
            "align_self": null,
            "height": null,
            "min_height": null,
            "padding": null,
            "grid_auto_rows": null,
            "grid_gap": null,
            "max_width": null,
            "order": null,
            "_view_module_version": "1.2.0",
            "grid_template_areas": null,
            "object_position": null,
            "object_fit": null,
            "grid_auto_columns": null,
            "margin": null,
            "display": null,
            "left": null
          }
        },
        "f1d879a2cc1d4aa296cee0e893119bdf": {
          "model_module": "@jupyter-widgets/controls",
          "model_name": "HBoxModel",
          "state": {
            "_view_name": "HBoxView",
            "_dom_classes": [],
            "_model_name": "HBoxModel",
            "_view_module": "@jupyter-widgets/controls",
            "_model_module_version": "1.5.0",
            "_view_count": null,
            "_view_module_version": "1.5.0",
            "box_style": "",
            "layout": "IPY_MODEL_42234406a6cd45aa867026eab8388d0f",
            "_model_module": "@jupyter-widgets/controls",
            "children": [
              "IPY_MODEL_56e5ff16dea5427fb823c42d3983fdba",
              "IPY_MODEL_3687e74a68a14434b3ea36c9d525e255"
            ]
          }
        },
        "42234406a6cd45aa867026eab8388d0f": {
          "model_module": "@jupyter-widgets/base",
          "model_name": "LayoutModel",
          "state": {
            "_view_name": "LayoutView",
            "grid_template_rows": null,
            "right": null,
            "justify_content": null,
            "_view_module": "@jupyter-widgets/base",
            "overflow": null,
            "_model_module_version": "1.2.0",
            "_view_count": null,
            "flex_flow": null,
            "width": null,
            "min_width": null,
            "border": null,
            "align_items": null,
            "bottom": null,
            "_model_module": "@jupyter-widgets/base",
            "top": null,
            "grid_column": null,
            "overflow_y": null,
            "overflow_x": null,
            "grid_auto_flow": null,
            "grid_area": null,
            "grid_template_columns": null,
            "flex": null,
            "_model_name": "LayoutModel",
            "justify_items": null,
            "grid_row": null,
            "max_height": null,
            "align_content": null,
            "visibility": null,
            "align_self": null,
            "height": null,
            "min_height": null,
            "padding": null,
            "grid_auto_rows": null,
            "grid_gap": null,
            "max_width": null,
            "order": null,
            "_view_module_version": "1.2.0",
            "grid_template_areas": null,
            "object_position": null,
            "object_fit": null,
            "grid_auto_columns": null,
            "margin": null,
            "display": null,
            "left": null
          }
        },
        "56e5ff16dea5427fb823c42d3983fdba": {
          "model_module": "@jupyter-widgets/controls",
          "model_name": "FloatProgressModel",
          "state": {
            "_view_name": "ProgressView",
            "style": "IPY_MODEL_ee08c431fe1b4565b8b649f62c1a7599",
            "_dom_classes": [],
            "description": "",
            "_model_name": "FloatProgressModel",
            "bar_style": "success",
            "max": 1648877,
            "_view_module": "@jupyter-widgets/controls",
            "_model_module_version": "1.5.0",
            "value": 1648877,
            "_view_count": null,
            "_view_module_version": "1.5.0",
            "orientation": "horizontal",
            "min": 0,
            "description_tooltip": null,
            "_model_module": "@jupyter-widgets/controls",
            "layout": "IPY_MODEL_9979f8b570a344308864e05d911dd522"
          }
        },
        "3687e74a68a14434b3ea36c9d525e255": {
          "model_module": "@jupyter-widgets/controls",
          "model_name": "HTMLModel",
          "state": {
            "_view_name": "HTMLView",
            "style": "IPY_MODEL_b16e29fcc9614505a995d8077574a7ef",
            "_dom_classes": [],
            "description": "",
            "_model_name": "HTMLModel",
            "placeholder": "​",
            "_view_module": "@jupyter-widgets/controls",
            "_model_module_version": "1.5.0",
            "value": " 1649664/? [01:19&lt;00:00, 20705.02it/s]",
            "_view_count": null,
            "_view_module_version": "1.5.0",
            "description_tooltip": null,
            "_model_module": "@jupyter-widgets/controls",
            "layout": "IPY_MODEL_9c117c8523914c47b76d2dc604aeed28"
          }
        },
        "ee08c431fe1b4565b8b649f62c1a7599": {
          "model_module": "@jupyter-widgets/controls",
          "model_name": "ProgressStyleModel",
          "state": {
            "_view_name": "StyleView",
            "_model_name": "ProgressStyleModel",
            "description_width": "initial",
            "_view_module": "@jupyter-widgets/base",
            "_model_module_version": "1.5.0",
            "_view_count": null,
            "_view_module_version": "1.2.0",
            "bar_color": null,
            "_model_module": "@jupyter-widgets/controls"
          }
        },
        "9979f8b570a344308864e05d911dd522": {
          "model_module": "@jupyter-widgets/base",
          "model_name": "LayoutModel",
          "state": {
            "_view_name": "LayoutView",
            "grid_template_rows": null,
            "right": null,
            "justify_content": null,
            "_view_module": "@jupyter-widgets/base",
            "overflow": null,
            "_model_module_version": "1.2.0",
            "_view_count": null,
            "flex_flow": null,
            "width": null,
            "min_width": null,
            "border": null,
            "align_items": null,
            "bottom": null,
            "_model_module": "@jupyter-widgets/base",
            "top": null,
            "grid_column": null,
            "overflow_y": null,
            "overflow_x": null,
            "grid_auto_flow": null,
            "grid_area": null,
            "grid_template_columns": null,
            "flex": null,
            "_model_name": "LayoutModel",
            "justify_items": null,
            "grid_row": null,
            "max_height": null,
            "align_content": null,
            "visibility": null,
            "align_self": null,
            "height": null,
            "min_height": null,
            "padding": null,
            "grid_auto_rows": null,
            "grid_gap": null,
            "max_width": null,
            "order": null,
            "_view_module_version": "1.2.0",
            "grid_template_areas": null,
            "object_position": null,
            "object_fit": null,
            "grid_auto_columns": null,
            "margin": null,
            "display": null,
            "left": null
          }
        },
        "b16e29fcc9614505a995d8077574a7ef": {
          "model_module": "@jupyter-widgets/controls",
          "model_name": "DescriptionStyleModel",
          "state": {
            "_view_name": "StyleView",
            "_model_name": "DescriptionStyleModel",
            "description_width": "",
            "_view_module": "@jupyter-widgets/base",
            "_model_module_version": "1.5.0",
            "_view_count": null,
            "_view_module_version": "1.2.0",
            "_model_module": "@jupyter-widgets/controls"
          }
        },
        "9c117c8523914c47b76d2dc604aeed28": {
          "model_module": "@jupyter-widgets/base",
          "model_name": "LayoutModel",
          "state": {
            "_view_name": "LayoutView",
            "grid_template_rows": null,
            "right": null,
            "justify_content": null,
            "_view_module": "@jupyter-widgets/base",
            "overflow": null,
            "_model_module_version": "1.2.0",
            "_view_count": null,
            "flex_flow": null,
            "width": null,
            "min_width": null,
            "border": null,
            "align_items": null,
            "bottom": null,
            "_model_module": "@jupyter-widgets/base",
            "top": null,
            "grid_column": null,
            "overflow_y": null,
            "overflow_x": null,
            "grid_auto_flow": null,
            "grid_area": null,
            "grid_template_columns": null,
            "flex": null,
            "_model_name": "LayoutModel",
            "justify_items": null,
            "grid_row": null,
            "max_height": null,
            "align_content": null,
            "visibility": null,
            "align_self": null,
            "height": null,
            "min_height": null,
            "padding": null,
            "grid_auto_rows": null,
            "grid_gap": null,
            "max_width": null,
            "order": null,
            "_view_module_version": "1.2.0",
            "grid_template_areas": null,
            "object_position": null,
            "object_fit": null,
            "grid_auto_columns": null,
            "margin": null,
            "display": null,
            "left": null
          }
        },
        "3998a60732ca4dd7b061c98783f55d48": {
          "model_module": "@jupyter-widgets/controls",
          "model_name": "HBoxModel",
          "state": {
            "_view_name": "HBoxView",
            "_dom_classes": [],
            "_model_name": "HBoxModel",
            "_view_module": "@jupyter-widgets/controls",
            "_model_module_version": "1.5.0",
            "_view_count": null,
            "_view_module_version": "1.5.0",
            "box_style": "",
            "layout": "IPY_MODEL_34a3b927dfb94d6dbb20b3079256c09f",
            "_model_module": "@jupyter-widgets/controls",
            "children": [
              "IPY_MODEL_2b907d89e080458c833b14aefa5baf89",
              "IPY_MODEL_bccfeed9291844ec98a61eeb9f576702"
            ]
          }
        },
        "34a3b927dfb94d6dbb20b3079256c09f": {
          "model_module": "@jupyter-widgets/base",
          "model_name": "LayoutModel",
          "state": {
            "_view_name": "LayoutView",
            "grid_template_rows": null,
            "right": null,
            "justify_content": null,
            "_view_module": "@jupyter-widgets/base",
            "overflow": null,
            "_model_module_version": "1.2.0",
            "_view_count": null,
            "flex_flow": null,
            "width": null,
            "min_width": null,
            "border": null,
            "align_items": null,
            "bottom": null,
            "_model_module": "@jupyter-widgets/base",
            "top": null,
            "grid_column": null,
            "overflow_y": null,
            "overflow_x": null,
            "grid_auto_flow": null,
            "grid_area": null,
            "grid_template_columns": null,
            "flex": null,
            "_model_name": "LayoutModel",
            "justify_items": null,
            "grid_row": null,
            "max_height": null,
            "align_content": null,
            "visibility": null,
            "align_self": null,
            "height": null,
            "min_height": null,
            "padding": null,
            "grid_auto_rows": null,
            "grid_gap": null,
            "max_width": null,
            "order": null,
            "_view_module_version": "1.2.0",
            "grid_template_areas": null,
            "object_position": null,
            "object_fit": null,
            "grid_auto_columns": null,
            "margin": null,
            "display": null,
            "left": null
          }
        },
        "2b907d89e080458c833b14aefa5baf89": {
          "model_module": "@jupyter-widgets/controls",
          "model_name": "FloatProgressModel",
          "state": {
            "_view_name": "ProgressView",
            "style": "IPY_MODEL_abde44ea8f204f6f83db1bfc8398b6a0",
            "_dom_classes": [],
            "description": "",
            "_model_name": "FloatProgressModel",
            "bar_style": "success",
            "max": 4542,
            "_view_module": "@jupyter-widgets/controls",
            "_model_module_version": "1.5.0",
            "value": 4542,
            "_view_count": null,
            "_view_module_version": "1.5.0",
            "orientation": "horizontal",
            "min": 0,
            "description_tooltip": null,
            "_model_module": "@jupyter-widgets/controls",
            "layout": "IPY_MODEL_2bbc848fc45d494780884c9822d6bb4a"
          }
        },
        "bccfeed9291844ec98a61eeb9f576702": {
          "model_module": "@jupyter-widgets/controls",
          "model_name": "HTMLModel",
          "state": {
            "_view_name": "HTMLView",
            "style": "IPY_MODEL_29dc57297d7b46b8baea52078269975f",
            "_dom_classes": [],
            "description": "",
            "_model_name": "HTMLModel",
            "placeholder": "​",
            "_view_module": "@jupyter-widgets/controls",
            "_model_module_version": "1.5.0",
            "value": " 5120/? [00:00&lt;00:00, 19607.59it/s]",
            "_view_count": null,
            "_view_module_version": "1.5.0",
            "description_tooltip": null,
            "_model_module": "@jupyter-widgets/controls",
            "layout": "IPY_MODEL_071d195397da4de8967a0beb2d22e592"
          }
        },
        "abde44ea8f204f6f83db1bfc8398b6a0": {
          "model_module": "@jupyter-widgets/controls",
          "model_name": "ProgressStyleModel",
          "state": {
            "_view_name": "StyleView",
            "_model_name": "ProgressStyleModel",
            "description_width": "initial",
            "_view_module": "@jupyter-widgets/base",
            "_model_module_version": "1.5.0",
            "_view_count": null,
            "_view_module_version": "1.2.0",
            "bar_color": null,
            "_model_module": "@jupyter-widgets/controls"
          }
        },
        "2bbc848fc45d494780884c9822d6bb4a": {
          "model_module": "@jupyter-widgets/base",
          "model_name": "LayoutModel",
          "state": {
            "_view_name": "LayoutView",
            "grid_template_rows": null,
            "right": null,
            "justify_content": null,
            "_view_module": "@jupyter-widgets/base",
            "overflow": null,
            "_model_module_version": "1.2.0",
            "_view_count": null,
            "flex_flow": null,
            "width": null,
            "min_width": null,
            "border": null,
            "align_items": null,
            "bottom": null,
            "_model_module": "@jupyter-widgets/base",
            "top": null,
            "grid_column": null,
            "overflow_y": null,
            "overflow_x": null,
            "grid_auto_flow": null,
            "grid_area": null,
            "grid_template_columns": null,
            "flex": null,
            "_model_name": "LayoutModel",
            "justify_items": null,
            "grid_row": null,
            "max_height": null,
            "align_content": null,
            "visibility": null,
            "align_self": null,
            "height": null,
            "min_height": null,
            "padding": null,
            "grid_auto_rows": null,
            "grid_gap": null,
            "max_width": null,
            "order": null,
            "_view_module_version": "1.2.0",
            "grid_template_areas": null,
            "object_position": null,
            "object_fit": null,
            "grid_auto_columns": null,
            "margin": null,
            "display": null,
            "left": null
          }
        },
        "29dc57297d7b46b8baea52078269975f": {
          "model_module": "@jupyter-widgets/controls",
          "model_name": "DescriptionStyleModel",
          "state": {
            "_view_name": "StyleView",
            "_model_name": "DescriptionStyleModel",
            "description_width": "",
            "_view_module": "@jupyter-widgets/base",
            "_model_module_version": "1.5.0",
            "_view_count": null,
            "_view_module_version": "1.2.0",
            "_model_module": "@jupyter-widgets/controls"
          }
        },
        "071d195397da4de8967a0beb2d22e592": {
          "model_module": "@jupyter-widgets/base",
          "model_name": "LayoutModel",
          "state": {
            "_view_name": "LayoutView",
            "grid_template_rows": null,
            "right": null,
            "justify_content": null,
            "_view_module": "@jupyter-widgets/base",
            "overflow": null,
            "_model_module_version": "1.2.0",
            "_view_count": null,
            "flex_flow": null,
            "width": null,
            "min_width": null,
            "border": null,
            "align_items": null,
            "bottom": null,
            "_model_module": "@jupyter-widgets/base",
            "top": null,
            "grid_column": null,
            "overflow_y": null,
            "overflow_x": null,
            "grid_auto_flow": null,
            "grid_area": null,
            "grid_template_columns": null,
            "flex": null,
            "_model_name": "LayoutModel",
            "justify_items": null,
            "grid_row": null,
            "max_height": null,
            "align_content": null,
            "visibility": null,
            "align_self": null,
            "height": null,
            "min_height": null,
            "padding": null,
            "grid_auto_rows": null,
            "grid_gap": null,
            "max_width": null,
            "order": null,
            "_view_module_version": "1.2.0",
            "grid_template_areas": null,
            "object_position": null,
            "object_fit": null,
            "grid_auto_columns": null,
            "margin": null,
            "display": null,
            "left": null
          }
        }
      }
    }
  },
  "cells": [
    {
      "cell_type": "code",
      "metadata": {
        "id": "SgJzo9tPUW37"
      },
      "source": [
        "# Loading libraries\n",
        "import math\n",
        "import numpy as np\n",
        "import matplotlib.pyplot as plt\n",
        "from torchvision.datasets import FashionMNIST\n",
        "from torchvision import datasets, models, transforms\n",
        "import torch\n",
        "from torch.utils.data import DataLoader, random_split\n",
        "from tqdm import tqdm\n",
        "import torch.nn as nn\n",
        "import torch.optim as optim\n",
        "import torch.nn.functional as F\n",
        "import urllib\n",
        "seed=0\n",
        "torch.backends.cudnn.determinitic = True\n",
        "torch.backends.cudnn.benchmark = False\n",
        "torch.manual_seed(seed)\n",
        "torch.cuda.manual_seed_all(seed)\n",
        "import copy\n",
        "\n",
        "device = torch.device('cuda'if torch.cuda.is_available() else 'cpu')"
      ],
      "execution_count": null,
      "outputs": []
    },
    {
      "cell_type": "code",
      "metadata": {
        "colab": {
          "base_uri": "https://localhost:8080/"
        },
        "id": "wFjt1JNwUa2X",
        "outputId": "edbfb723-1b2a-48e3-d557-0f5ee6a9670c"
      },
      "source": [
        "# For new versions of TorchVision\n",
        "!wget www.di.ens.fr/~lelarge/MNIST.tar.gz\n",
        "!tar -zxvf MNIST.tar.gz\n",
        "def get_mnist_dataloaders(val_percentage=0.3, batch_size=1):\n",
        "  dataset = datasets.MNIST(\"./dataset\", train=True,  download=True, transform=transforms.Compose([transforms.ToTensor()]))\n",
        "  dataset_test = datasets.MNIST(\"./dataset\", train=False,  download=True, transform=transforms.Compose([transforms.ToTensor()]))\n",
        "  len_train = int(len(dataset) * (1-val_percentage))\n",
        "  len_val = len(dataset) - len_train\n",
        "  dataset_train, dataset_val = random_split(dataset, [len_train, len_val])\n",
        "  data_loader_train = DataLoader(dataset_train, batch_size=batch_size,shuffle=True,num_workers=2)\n",
        "  data_loader_val = DataLoader(dataset_val, batch_size=batch_size,shuffle=True,num_workers=2)\n",
        "  data_loader_test = DataLoader(dataset_test, batch_size=batch_size,shuffle=True,num_workers=2)\n",
        "  return data_loader_train, data_loader_val, data_loader_test\n"
      ],
      "execution_count": null,
      "outputs": [
        {
          "output_type": "stream",
          "text": [
            "--2021-04-11 18:13:35--  http://www.di.ens.fr/~lelarge/MNIST.tar.gz\n",
            "Resolving www.di.ens.fr (www.di.ens.fr)... 129.199.99.14\n",
            "Connecting to www.di.ens.fr (www.di.ens.fr)|129.199.99.14|:80... connected.\n",
            "HTTP request sent, awaiting response... 302 Found\n",
            "Location: https://www.di.ens.fr/~lelarge/MNIST.tar.gz [following]\n",
            "--2021-04-11 18:13:36--  https://www.di.ens.fr/~lelarge/MNIST.tar.gz\n",
            "Connecting to www.di.ens.fr (www.di.ens.fr)|129.199.99.14|:443... connected.\n",
            "HTTP request sent, awaiting response... 200 OK\n",
            "Length: unspecified [application/x-gzip]\n",
            "Saving to: ‘MNIST.tar.gz’\n",
            "\n",
            "MNIST.tar.gz            [     <=>            ]  33.20M  5.03MB/s    in 18s     \n",
            "\n",
            "2021-04-11 18:13:55 (1.80 MB/s) - ‘MNIST.tar.gz’ saved [34813078]\n",
            "\n",
            "MNIST/\n",
            "MNIST/raw/\n",
            "MNIST/raw/train-labels-idx1-ubyte\n",
            "MNIST/raw/t10k-labels-idx1-ubyte.gz\n",
            "MNIST/raw/t10k-labels-idx1-ubyte\n",
            "MNIST/raw/t10k-images-idx3-ubyte.gz\n",
            "MNIST/raw/train-images-idx3-ubyte\n",
            "MNIST/raw/train-labels-idx1-ubyte.gz\n",
            "MNIST/raw/t10k-images-idx3-ubyte\n",
            "MNIST/raw/train-images-idx3-ubyte.gz\n",
            "MNIST/processed/\n",
            "MNIST/processed/training.pt\n",
            "MNIST/processed/test.pt\n"
          ],
          "name": "stdout"
        }
      ]
    },
    {
      "cell_type": "code",
      "metadata": {
        "id": "8WAftlIwUa4g",
        "colab": {
          "base_uri": "https://localhost:8080/",
          "height": 675,
          "referenced_widgets": [
            "3c0f10e575094eaaa80c1db14358b9b6",
            "30ee181999d0447c8954b6d8a51592a1",
            "f17fb78b98b64f0494d44235ea46717b",
            "8ffcfc291e8346588de641f92e554e7a",
            "73942cd1ad8f44f2a823b5bcee97e87b",
            "1c1da47ec1914a99a424ff0cd735b98d",
            "49147409af1d42e6a0970fe692282c5d",
            "044d7c22a71f4bcb8665c3756c3bfded",
            "0d32d08d28d1421cb83f2442ac3b9a56",
            "0744d0af3c8444c79f9d27220da4a113",
            "cb21b424732348c8bfa866762592c2f2",
            "2ca58806d0004c46a1dcf042584fb46e",
            "50a694a5e7fd4e1c9671598ae373f21e",
            "251e8cc1003b4ed594baa247376e9569",
            "8aaca643ec4b4e1ea211339deb4c809d",
            "253686f7ced849a0b7fec9070cb4ed41",
            "f1d879a2cc1d4aa296cee0e893119bdf",
            "42234406a6cd45aa867026eab8388d0f",
            "56e5ff16dea5427fb823c42d3983fdba",
            "3687e74a68a14434b3ea36c9d525e255",
            "ee08c431fe1b4565b8b649f62c1a7599",
            "9979f8b570a344308864e05d911dd522",
            "b16e29fcc9614505a995d8077574a7ef",
            "9c117c8523914c47b76d2dc604aeed28",
            "3998a60732ca4dd7b061c98783f55d48",
            "34a3b927dfb94d6dbb20b3079256c09f",
            "2b907d89e080458c833b14aefa5baf89",
            "bccfeed9291844ec98a61eeb9f576702",
            "abde44ea8f204f6f83db1bfc8398b6a0",
            "2bbc848fc45d494780884c9822d6bb4a",
            "29dc57297d7b46b8baea52078269975f",
            "071d195397da4de8967a0beb2d22e592"
          ]
        },
        "outputId": "4c4b2a8d-9764-49b3-e73e-e29e6a41a892"
      },
      "source": [
        "# call this once first to download the datasets\n",
        "_ = get_mnist_dataloaders()"
      ],
      "execution_count": null,
      "outputs": [
        {
          "output_type": "stream",
          "text": [
            "Downloading http://yann.lecun.com/exdb/mnist/train-images-idx3-ubyte.gz\n",
            "Downloading http://yann.lecun.com/exdb/mnist/train-images-idx3-ubyte.gz to ./dataset/MNIST/raw/train-images-idx3-ubyte.gz\n"
          ],
          "name": "stdout"
        },
        {
          "output_type": "display_data",
          "data": {
            "application/vnd.jupyter.widget-view+json": {
              "model_id": "3c0f10e575094eaaa80c1db14358b9b6",
              "version_minor": 0,
              "version_major": 2
            },
            "text/plain": [
              "HBox(children=(FloatProgress(value=0.0, max=9912422.0), HTML(value='')))"
            ]
          },
          "metadata": {
            "tags": []
          }
        },
        {
          "output_type": "stream",
          "text": [
            "\n",
            "Extracting ./dataset/MNIST/raw/train-images-idx3-ubyte.gz to ./dataset/MNIST/raw\n",
            "\n",
            "Downloading http://yann.lecun.com/exdb/mnist/train-labels-idx1-ubyte.gz\n",
            "Downloading http://yann.lecun.com/exdb/mnist/train-labels-idx1-ubyte.gz to ./dataset/MNIST/raw/train-labels-idx1-ubyte.gz\n"
          ],
          "name": "stdout"
        },
        {
          "output_type": "display_data",
          "data": {
            "application/vnd.jupyter.widget-view+json": {
              "model_id": "0d32d08d28d1421cb83f2442ac3b9a56",
              "version_minor": 0,
              "version_major": 2
            },
            "text/plain": [
              "HBox(children=(FloatProgress(value=0.0, max=28881.0), HTML(value='')))"
            ]
          },
          "metadata": {
            "tags": []
          }
        },
        {
          "output_type": "stream",
          "text": [
            "\n",
            "Extracting ./dataset/MNIST/raw/train-labels-idx1-ubyte.gz to ./dataset/MNIST/raw\n",
            "\n",
            "Downloading http://yann.lecun.com/exdb/mnist/t10k-images-idx3-ubyte.gz\n",
            "Downloading http://yann.lecun.com/exdb/mnist/t10k-images-idx3-ubyte.gz to ./dataset/MNIST/raw/t10k-images-idx3-ubyte.gz\n",
            "Failed to download (trying next):\n",
            "HTTP Error 503: Service Unavailable\n",
            "\n",
            "Downloading https://ossci-datasets.s3.amazonaws.com/mnist/t10k-images-idx3-ubyte.gz\n",
            "Downloading https://ossci-datasets.s3.amazonaws.com/mnist/t10k-images-idx3-ubyte.gz to ./dataset/MNIST/raw/t10k-images-idx3-ubyte.gz\n"
          ],
          "name": "stdout"
        },
        {
          "output_type": "display_data",
          "data": {
            "application/vnd.jupyter.widget-view+json": {
              "model_id": "f1d879a2cc1d4aa296cee0e893119bdf",
              "version_minor": 0,
              "version_major": 2
            },
            "text/plain": [
              "HBox(children=(FloatProgress(value=0.0, max=1648877.0), HTML(value='')))"
            ]
          },
          "metadata": {
            "tags": []
          }
        },
        {
          "output_type": "stream",
          "text": [
            "\n",
            "Extracting ./dataset/MNIST/raw/t10k-images-idx3-ubyte.gz to ./dataset/MNIST/raw\n",
            "\n",
            "Downloading http://yann.lecun.com/exdb/mnist/t10k-labels-idx1-ubyte.gz\n",
            "Downloading http://yann.lecun.com/exdb/mnist/t10k-labels-idx1-ubyte.gz to ./dataset/MNIST/raw/t10k-labels-idx1-ubyte.gz\n"
          ],
          "name": "stdout"
        },
        {
          "output_type": "display_data",
          "data": {
            "application/vnd.jupyter.widget-view+json": {
              "model_id": "3998a60732ca4dd7b061c98783f55d48",
              "version_minor": 0,
              "version_major": 2
            },
            "text/plain": [
              "HBox(children=(FloatProgress(value=0.0, max=4542.0), HTML(value='')))"
            ]
          },
          "metadata": {
            "tags": []
          }
        },
        {
          "output_type": "stream",
          "text": [
            "\n",
            "Extracting ./dataset/MNIST/raw/t10k-labels-idx1-ubyte.gz to ./dataset/MNIST/raw\n",
            "\n",
            "Processing...\n",
            "Done!\n"
          ],
          "name": "stdout"
        },
        {
          "output_type": "stream",
          "text": [
            "/usr/local/lib/python3.7/dist-packages/torchvision/datasets/mnist.py:502: UserWarning: The given NumPy array is not writeable, and PyTorch does not support non-writeable tensors. This means you can write to the underlying (supposedly non-writeable) NumPy array using the tensor. You may want to copy the array to protect its data or make it writeable before converting it to a tensor. This type of warning will be suppressed for the rest of this program. (Triggered internally at  /pytorch/torch/csrc/utils/tensor_numpy.cpp:143.)\n",
            "  return torch.from_numpy(parsed.astype(m[2], copy=False)).view(*s)\n"
          ],
          "name": "stderr"
        }
      ]
    },
    {
      "cell_type": "code",
      "metadata": {
        "id": "7zN1e8b35HBH"
      },
      "source": [
        ""
      ],
      "execution_count": null,
      "outputs": []
    },
    {
      "cell_type": "code",
      "metadata": {
        "id": "Zbew5abbpbWl"
      },
      "source": [
        "data_loader_train, data_loader_val, data_loader_test = get_mnist_dataloaders(0.1, batch_size=64)"
      ],
      "execution_count": null,
      "outputs": []
    },
    {
      "cell_type": "code",
      "metadata": {
        "id": "S5Gyl9X-WoVM"
      },
      "source": [
        "# Relu Conv1layer \n",
        "class ReluConv1(nn.Module):\n",
        "    def __init__(self, in_channels = 1, out_channels = 256, Kernel_size=9):\n",
        "        super(ReluConv1, self).__init__()\n",
        "        self.relu = nn.ReLU()\n",
        "        self.conv = nn.Conv2d(in_channels , out_channels, Kernel_size,stride =1, padding=0 ).to(device)\n",
        "    def forward(self, x):\n",
        "        return self.relu(self.conv(x)).to(device)\n"
      ],
      "execution_count": null,
      "outputs": []
    },
    {
      "cell_type": "code",
      "metadata": {
        "id": "EuTqCvZZUa5Z"
      },
      "source": [
        "# Primary Capsules layer\n",
        "class PrimaryCapsules(nn.Module):\n",
        "    def __init__(self, nb_capsules = 32, in_channels= 256 , out_channels= 8 ):\n",
        "        super(PrimaryCapsules, self).__init__()\n",
        "        self.capsules = nn.ModuleList([\n",
        "                                       nn.Conv2d(in_channels, out_channels, kernel_size = 9, stride = 2, padding = 0).to(device) \n",
        "                                       for _ in range(nb_capsules)\n",
        "        ]) \n",
        "    def forward(self, x):\n",
        "        u = [capsule(x).view(x.shape[0],  6*6, 8) for capsule in self.capsules] \n",
        "        u = torch.cat(u, dim = 1) # We concatenate all the capsules so that u has the shape (batch, 32* 6*6, 8)\n",
        "  \n",
        "        v = self.squashing(u)  # squashing  the vector u according to equation 1\n",
        "        return v  # the output shape is (batch_size, 32*6*6, 8)\n",
        "    def squashing(self, x):\n",
        "        norm = torch.norm(x, p=2, dim = -1, keepdim=True)\n",
        "        squashed = torch.square(norm)/((1+torch.square(norm))*norm)*x \n",
        "        return squashed\n",
        "        "
      ],
      "execution_count": null,
      "outputs": []
    },
    {
      "cell_type": "code",
      "metadata": {
        "id": "I5Tp0wCmGPvI"
      },
      "source": [
        "# Softmax function for b parameters\n",
        "def softmax(x, dim=2):\n",
        "    transposed = x.transpose(dim, len(x.size())-1)\n",
        "    softmaxed = F.softmax(transposed.contiguous().view(-1, transposed.size(-1)), dim=-1)\n",
        "    return softmaxed.view(*transposed.size()).transpose(dim, len(x.size())-1)"
      ],
      "execution_count": null,
      "outputs": []
    },
    {
      "cell_type": "code",
      "metadata": {
        "id": "dNXPYNq6GtUm"
      },
      "source": [
        "# Dynamic routing\n",
        "def dynamic_routing(u, b, squash_fun, routing=3):\n",
        "    for r in range(routing):\n",
        "        c = softmax(b, dim=2)  # The coupling coefficient applying a softmax on the prev_layer_dim\n",
        "        s = (c*u).sum(dim =2, keepdim= True )  #equation 2 in the paper \n",
        "        v = squash_fun(s)\n",
        "        if r < routing -1:\n",
        "            b = b + (u * v).sum(dim=-1, keepdim=True)\n",
        "    return v"
      ],
      "execution_count": null,
      "outputs": []
    },
    {
      "cell_type": "code",
      "metadata": {
        "id": "LLz04BIRJDVS"
      },
      "source": [
        "class DigitCapsules(nn.Module):\n",
        "    def __init__(self,nb_capsules = 10, prev_layer_dim = 32*6*6, in_channels = 8, out_channels= 16 ):\n",
        "        super(DigitCapsules, self).__init__()\n",
        "        self.nb_capsules = nb_capsules\n",
        "        self.prev_layer_dim = prev_layer_dim\n",
        "        self.in_channels = in_channels\n",
        "        self.out_channels = out_channels\n",
        "        self.W = nn.Parameter(torch.randn(nb_capsules, prev_layer_dim, in_channels, out_channels))\n",
        "    def forward(self, x):\n",
        "        x = x[None,:, : ,None,:]  # has as shape (1, batch_size, prev_layer_dim, 1,in_channels )\n",
        "        W = self.W[:,None,:,:,:].to(device)  # has shape as (nb_capsules, 1, prev_layer_dim, in_channels, out_channels)\n",
        "        xx = torch.matmul(x, W).to(device) # has as shape (nb_capsules, batch_size, prev_layer_dim,1, out_channels ) (broadcasting) \n",
        "        b = torch.zeros(*xx.size()).to(device)\n",
        "        v = dynamic_routing(xx, b, self.squashing, routing = 3 )\n",
        "        return v.squeeze().transpose(0,1)  # shape (batch_size,nb_capsule, out_channels )\n",
        "    def squashing(self, x):\n",
        "        norm = torch.norm(x, p=2, dim = -1, keepdim=True)\n",
        "        squashed = torch.square(norm)/((1+torch.square(norm))*norm)*x \n",
        "        return squashed\n",
        "\n",
        "\n",
        " \n",
        "\n"
      ],
      "execution_count": null,
      "outputs": []
    },
    {
      "cell_type": "code",
      "metadata": {
        "id": "EMSDcsqrXzTg"
      },
      "source": [
        "# The decoder class for reconstructing images from the image class\n",
        "class Decoder(nn.Module):\n",
        "    def __init__(self, nb_capsules = 10, capsule_size = 16, hidden_size = 512):\n",
        "        super(Decoder, self).__init__()\n",
        "        self.Fc_layers = nn.Sequential(\n",
        "            nn.Linear(nb_capsules*capsule_size, hidden_size).to(device),\n",
        "            nn.ReLU(inplace= True).to(device),\n",
        "            nn.Linear(hidden_size, 2*hidden_size).to(device),\n",
        "            nn.ReLU(inplace= True).to(device),\n",
        "            nn.Linear(2*hidden_size, 784).to(device),\n",
        "            nn.Sigmoid()\n",
        "\n",
        "        )\n",
        "    def forward(self, x):\n",
        "        # x is the output of Digit caps \n",
        "        # x is of shape ( batch_size, 10 , 16)\n",
        "        # we could see as having 10 vectors of dim 16 \n",
        "        # We want to take as prob of each one of 10 classes as the norm of the correpondent  vector over its 16 elements:\n",
        "        prob = torch.norm(x, p=2, dim = -1) # size ( batch_size, 10)\n",
        "        # The indices  of the class with max prob for each element of the batch:\n",
        "        _, indices =  prob.max(dim = 1)# size = (batch_size)\n",
        "        # y_pred for classifcation : \n",
        "        # The predicted classes coded as one hot vector (size= (batch_size, 10) )\n",
        "        I = torch.eye(10).to(device)\n",
        "        y_pred= I.cuda().index_select(dim = 0, index =indices.data.to(device)).to(device) # size = (batch_size, 10)\n",
        "\n",
        "        ## Reconstruction:\n",
        "        # For  reconstruction we take only as information  the vector that presents the instantiation of the max class\n",
        "        # So each vector is multiplied by its own predicted one hot vector label label:\n",
        "        input = x*y_pred[:, : , None]   # size ( batch_size,10,  16) * (batch_size, 10, 1) # broadcasting\n",
        "        flatten_in = input.reshape(x.size(0), -1 ).to(device)\n",
        "        out = self.Fc_layers(flatten_in).to(device)\n",
        "        return y_pred, out \n",
        "\n",
        "\n",
        "\n",
        "\n"
      ],
      "execution_count": null,
      "outputs": []
    },
    {
      "cell_type": "code",
      "metadata": {
        "id": "LvxDNmULBcdD"
      },
      "source": [
        ""
      ],
      "execution_count": null,
      "outputs": []
    },
    {
      "cell_type": "code",
      "metadata": {
        "id": "UYi10gyn8C1d"
      },
      "source": [
        "class CapsNet(nn.Module):\n",
        "    def __init__(self):\n",
        "        super(CapsNet, self).__init__()\n",
        "        self.conv_layer = ReluConv1()\n",
        "        self.primary_capsules = PrimaryCapsules()\n",
        "        self.digit_capsules = DigitCapsules()\n",
        "        self.decoder = Decoder()\n",
        "    def forward(self, x):\n",
        "        out1 = self.conv_layer(x).to(device)\n",
        "        out2 = self.primary_capsules(out1).to(device)\n",
        "        out3 = self.digit_capsules(out2).to(device)\n",
        "        y_pred, reconstructed_img = self.decoder(out3)\n",
        "        return y_pred, reconstructed_img, out3\n",
        "\n",
        "\n"
      ],
      "execution_count": null,
      "outputs": []
    },
    {
      "cell_type": "code",
      "metadata": {
        "id": "_kU8KgU6tTSS"
      },
      "source": [
        "# The loss function of CapsNet:\n",
        "# As described in the paper, the Total loss is composed of \n",
        "# Margin loss and a reconstruction loss, with the reconstruction loss scaled \n",
        "# down by 0.0005 so that it does not dominate the margin loss during training\n",
        "# In this case: CapsNetLoss = margin_loss + 0.0005*reconstruction_loss\n",
        "\n",
        "class CapsNetLoss(nn.Module):\n",
        "    def __init__(self):\n",
        "        super(CapsNetLoss, self).__init__()\n",
        "        self.reconstruction_loss = nn.MSELoss(size_average=False)\n",
        "    def MarginLoss(self, caps_out, y ):\n",
        "        v = torch.norm(caps_out, p=2, dim=-1, keepdim=True)  # ||vk|| \n",
        "        # Lk = Tk max(0, m+ − ||vk||)**2 + λ (1 − Tk) max(0, ||vk|| − m−)**2\n",
        "        # m+ = 0.9, m−=0.1, λ=0.5\n",
        "        margin_loss = y*F.relu(0.9-v).view(caps_out.size(0),-1)**2 + 0.5*(1-y)*F.relu(v-0.1).view(caps_out.size(0),-1)**2 \n",
        "        margin_loss =margin_loss.sum()\n",
        "        return margin_loss\n",
        "    def forward(self, x, y, caps_out, reconstructed_img):\n",
        "        margin_loss = self.MarginLoss(caps_out,y)\n",
        "        x= x.view(reconstructed_img.size()[0], -1)\n",
        "        reconstruction_loss = self.reconstruction_loss(x, reconstructed_img)\n",
        "        capsule_loss = 1/x.size(0)* (margin_loss + 0.0005* reconstruction_loss)\n",
        "        return capsule_loss\n",
        "\n",
        "\n",
        "\n",
        "def accuracy_and_loss_whole_dataset(batch_size, data_loader, model):\n",
        "    losses=list()\n",
        "    accur = 0\n",
        "    loss=0\n",
        "    n=len(data_loader.dataset)\n",
        "    import torch\n",
        "    correct = 0\n",
        "    num_sample = 0\n",
        "    with torch.no_grad():\n",
        "        for batch_idx, (x, y) in enumerate(data_loader) :\n",
        "            x=x.to(device)\n",
        "            b = torch.eye(10).index_select(dim=0, index=y)\n",
        "            b=b.to(device)\n",
        "            y= y.to(device)\n",
        "            criterion = CapsNetLoss()\n",
        "            y_pred, reconstructed_img, caps_out = model.forward(x)\n",
        "            loss = criterion(x, b, caps_out, reconstructed_img)\n",
        "            losses.append(loss.item())\n",
        "            _,predictions = y_pred.max(1)\n",
        "            correct += (predictions == y).sum() \n",
        "            num_sample += predictions.size(0)\n",
        "       \n",
        "    accur = correct/num_sample\n",
        "    \n",
        "    import torch\n",
        "    torch.cuda.empty_cache()  \n",
        "    loss=np.mean(losses) \n",
        "        \n",
        "    return accur, loss\n",
        "def accuracy_and_loss_whole_dataset2(batch_size, data_loader, model):\n",
        "    losses=list()\n",
        "    accur = 0\n",
        "    loss=0\n",
        "    n=len(data_loader.dataset)\n",
        "    correct = 0\n",
        "    num_sample = 0\n",
        "    import torch\n",
        "    with torch.no_grad():\n",
        "        for batch_idx, (x, y) in enumerate(data_loader) :\n",
        "            x=x.to(device)\n",
        "            y= y.to(device)\n",
        "            criterion =nn.CrossEntropyLoss()\n",
        "            y_pred = model.forward(x)\n",
        "            loss = criterion(y_pred, y)\n",
        "            losses.append(loss.item())\n",
        "            _,predictions = y_pred.max(1)\n",
        "            correct += (predictions == y).sum() \n",
        "            num_sample += predictions.size(0)\n",
        "        \n",
        "        import torch\n",
        "        torch.cuda.empty_cache()\n",
        "    accur = correct/num_sample       \n",
        "    loss=np.mean(losses) \n",
        "        \n",
        "    return accur, loss"
      ],
      "execution_count": null,
      "outputs": []
    },
    {
      "cell_type": "code",
      "metadata": {
        "id": "36VPiobSAPYl"
      },
      "source": [
        "class Logger:\n",
        "  def __init__(self):\n",
        "    self.losses_train = []\n",
        "    self.losses_test = []\n",
        "    self.accuracies_train = []\n",
        "    self.accuracies_test = []\n",
        "\n",
        "  def log(self, accuracy_train=0, loss_train=0, accuracy_test=0, loss_test=0):\n",
        "    self.losses_train.append(loss_train)\n",
        "    self.accuracies_train.append(accuracy_train)\n",
        "    self.losses_test.append(loss_test)\n",
        "    self.accuracies_test.append(accuracy_test)\n",
        "\n",
        "  def plot_loss(self, train=True, test=True):\n",
        "    if not train and not test:\n",
        "      raise ValueError(\"Cannot plot loss because train and Val\")\n",
        "    plt.figure()\n",
        "    if train:\n",
        "      plt.plot(self.losses_train, label=\"Train\")\n",
        "    if test:\n",
        "      plt.plot(self.losses_test, label=\"Val\")\n",
        "    plt.legend(loc='best')\n",
        "    plt.xlabel(\"Epoch\")\n",
        "    plt.title(\"CrossEntropy Loss\")\n",
        "\n",
        "  def plot_accuracy(self, train=True, test=True):\n",
        "    if not train and not test:\n",
        "      raise ValueError(\"Cannot plot accuracy because train and test\")\n",
        "    plt.figure()\n",
        "    if train:\n",
        "      plt.plot(self.accuracies_train, label=\"Train\")\n",
        "    if test:\n",
        "      plt.plot(self.accuracies_test, label=\"Val\")\n",
        "    plt.legend(loc='best')\n",
        "    plt.xlabel(\"Epoch\")\n",
        "    plt.title(\"Accuracy\")\n",
        "  \n",
        "  def print_last():\n",
        "    print(f\"Epoch {len(self.losses_train):2d}, \\\n",
        "                  Train:loss={self.losses_train[-1]:.3f}, accuracy={self.accuracies_train[-1]*100:.1f}%, \\\n",
        "                  Test: loss={self.losses_test[-1]:.3f}, accuracy={self.accuracies_test[-1]*100:.1f}%\", flush=True)"
      ],
      "execution_count": null,
      "outputs": []
    },
    {
      "cell_type": "code",
      "metadata": {
        "id": "GtqkguGN-bzv"
      },
      "source": [
        "def train( lr=0.01, nb_epochs=10, batch_size=64, seed=None):\n",
        "    global model\n",
        "    model = CapsNet()\n",
        "    import torch.optim as optim\n",
        "    criterion = CapsNetLoss()\n",
        "    optimizer = optim.Adam(model.parameters(), lr=lr)\n",
        "    best_model = None\n",
        "    global data_loader_test\n",
        "    global data_loader_train\n",
        "    data_loader_train, data_loader_val, data_loader_test = get_mnist_dataloaders(0.1, batch_size=batch_size)\n",
        "    \n",
        "    best_val_accuracy = 0\n",
        "    logger = Logger()\n",
        "    import time\n",
        "    start_time = time.time()\n",
        "\n",
        "\n",
        "    for epoch in range(nb_epochs):\n",
        "        for batch_idx, (x, y) in enumerate(data_loader_train) :\n",
        "            \n",
        "            x=x.to(device=device)\n",
        "            y = torch.eye(10).index_select(dim=0, index=y).to(device)\n",
        "            y_pred, reconstructed_img, caps_out = model(x)\n",
        "            loss = criterion(x, y, caps_out, reconstructed_img)\n",
        "            optimizer.zero_grad()\n",
        "            loss.backward()\n",
        "            optimizer.step()         \n",
        "            torch.cuda.empty_cache() \n",
        "        accuracy_train, loss_train = accuracy_and_loss_whole_dataset(batch_size,data_loader_train, model)\n",
        "        accuracy_val, loss_val = accuracy_and_loss_whole_dataset(batch_size, data_loader_val, model)\n",
        "        if accuracy_val  > best_val_accuracy: # select the best parameters based on the validation accuracy \n",
        "            best_model=copy.deepcopy(model)\n",
        "            best_val_accuracy=accuracy_val\n",
        "            pass  \n",
        "\n",
        "        logger.log(accuracy_train, loss_train, accuracy_val, loss_val)\n",
        "        if epoch % 1 == 0:\n",
        "          print(\"--- %s seconds ---\" % (time.time() - start_time))\n",
        "          print(f\"Epoch {epoch:2d}, \\\n",
        "                  Train:loss={loss_train.item():.4f}, accuracy={accuracy_train.item()*100:.4f}%, \\\n",
        "                  Val: loss={loss_val.item():.4f}, accuracy={accuracy_val.item()*100:.1f}%\", flush=True)\n",
        "        \n",
        "    return best_model, best_val_accuracy, logger"
      ],
      "execution_count": null,
      "outputs": []
    },
    {
      "cell_type": "code",
      "metadata": {
        "id": "HKzoKdmWyY-w"
      },
      "source": [
        "def failed_sample(model):\n",
        "    failed=[]\n",
        "    with torch.no_grad():\n",
        "       for batch_idx, (x, y) in enumerate (data_loader_test):\n",
        "           x=x.to(device=device)\n",
        "           y=y.to(device=device)\n",
        "           if isinstance(model, CapsNet):\n",
        "                pred, reconstructed_img, caps_out = model(x) \n",
        "                reconstructed_img=reconstructed_img.reshape((x.size(0),1,28,28))\n",
        "           else:\n",
        "               pred = model(x)\n",
        "           for i in range(len(y)):\n",
        "               b= torch.argmax(pred[i]) \n",
        "               if  b != y[i]:\n",
        "                    if isinstance(model, CapsNet):\n",
        "                         img = torch.cat((x[i], reconstructed_img[i]), dim = 2)\n",
        "                    else:\n",
        "                        img = x[i]\n",
        "                    failed.append((img,y[i],b))\n",
        "    return failed\n"
      ],
      "execution_count": null,
      "outputs": []
    },
    {
      "cell_type": "code",
      "metadata": {
        "id": "UE8jhIdWzmAv"
      },
      "source": [
        "def success_sample(model):\n",
        "    success = []\n",
        "    with torch.no_grad():\n",
        "       for batch_idx, (x, y) in enumerate (data_loader_test):\n",
        "           x=x.to(device=device)\n",
        "           y=y.to(device=device)\n",
        "           if isinstance(model, CapsNet):\n",
        "                pred, reconstructed_img, caps_out = model(x) \n",
        "                reconstructed_img=reconstructed_img.reshape((x.size(0),1,28,28))\n",
        "           else:\n",
        "               pred = model(x)\n",
        "           for i in range(len(y)):\n",
        "               b= torch.argmax(pred[i]) \n",
        "               if  b == y[i]:\n",
        "                    if isinstance(model, CapsNet):\n",
        "                         img = torch.cat((x[i], reconstructed_img[i]), dim = 2)\n",
        "                    else:\n",
        "                        img = x[i]\n",
        "                    success.append((img,y[i],b))\n",
        "    return success"
      ],
      "execution_count": null,
      "outputs": []
    },
    {
      "cell_type": "code",
      "metadata": {
        "id": "UnOkEkLBxssn"
      },
      "source": [
        "def plot_reconstructed(set):\n",
        "  num_row = 2\n",
        "  num_col = 5# plot images\n",
        "  num_images = num_row * num_col\n",
        "  fig, axes = plt.subplots(num_row, num_col, figsize=(3*num_col,2*num_row))\n",
        "  for i, (x,y,pred) in enumerate(set):\n",
        "      if i >= num_images:\n",
        "        break\n",
        "      ax = axes[i//num_col, i%num_col]\n",
        "      x = (x.cpu().numpy().squeeze() * 255).astype(int)\n",
        "      #y = y.numpy()[0]\n",
        "      ax.imshow(x, cmap='gray')\n",
        "      ax.set_title(f\"Label: {y} pred: {pred.item()}\")\n",
        "      \n",
        "  plt.tight_layout()\n",
        "  plt.show()\n",
        "#plot2_samples()"
      ],
      "execution_count": null,
      "outputs": []
    },
    {
      "cell_type": "code",
      "metadata": {
        "colab": {
          "base_uri": "https://localhost:8080/",
          "height": 1000
        },
        "id": "lexCnJWC1Rd2",
        "outputId": "f2f66960-1816-4b59-d86f-6e37ce457436"
      },
      "source": [
        "best_model, best_val_accuracy, logger = train( lr=0.0001, nb_epochs=20, batch_size=64, seed=None)\n",
        "# Saving the model \n",
        "checkpoint = {'capsule_model ' : best_model.state_dict() }\n",
        "torch.save(checkpoint, \"capsule_checkpoint.pth.tar\" )\n",
        "logger.plot_loss()\n",
        "logger.plot_accuracy()\n",
        "print(f\"Best validation accuracy = {best_val_accuracy*100:.3f}\")\n"
      ],
      "execution_count": null,
      "outputs": [
        {
          "output_type": "stream",
          "text": [
            "/usr/local/lib/python3.7/dist-packages/torch/nn/_reduction.py:42: UserWarning: size_average and reduce args will be deprecated, please use reduction='sum' instead.\n",
            "  warnings.warn(warning.format(ret))\n"
          ],
          "name": "stderr"
        },
        {
          "output_type": "stream",
          "text": [
            "--- 389.90200781822205 seconds ---\n",
            "Epoch  0,                   Train:loss=0.0792, accuracy=95.7093%,                   Val: loss=0.0805, accuracy=95.5%\n",
            "--- 779.2726633548737 seconds ---\n",
            "Epoch  1,                   Train:loss=0.0519, accuracy=97.4944%,                   Val: loss=0.0539, accuracy=97.0%\n",
            "--- 1168.8883695602417 seconds ---\n",
            "Epoch  2,                   Train:loss=0.0407, accuracy=98.2630%,                   Val: loss=0.0431, accuracy=97.8%\n",
            "--- 1559.2330062389374 seconds ---\n",
            "Epoch  3,                   Train:loss=0.0342, accuracy=98.7463%,                   Val: loss=0.0376, accuracy=98.2%\n",
            "--- 1949.4938220977783 seconds ---\n",
            "Epoch  4,                   Train:loss=0.0301, accuracy=99.0574%,                   Val: loss=0.0338, accuracy=98.4%\n",
            "--- 2339.031924724579 seconds ---\n",
            "Epoch  5,                   Train:loss=0.0268, accuracy=99.2130%,                   Val: loss=0.0311, accuracy=98.6%\n",
            "--- 2728.9182755947113 seconds ---\n",
            "Epoch  6,                   Train:loss=0.0244, accuracy=99.4056%,                   Val: loss=0.0293, accuracy=98.7%\n",
            "--- 3119.0717067718506 seconds ---\n",
            "Epoch  7,                   Train:loss=0.0223, accuracy=99.5222%,                   Val: loss=0.0276, accuracy=98.7%\n",
            "--- 3509.0267486572266 seconds ---\n",
            "Epoch  8,                   Train:loss=0.0209, accuracy=99.6185%,                   Val: loss=0.0269, accuracy=98.8%\n",
            "--- 3899.105623960495 seconds ---\n",
            "Epoch  9,                   Train:loss=0.0195, accuracy=99.7056%,                   Val: loss=0.0255, accuracy=98.9%\n",
            "--- 4289.033485174179 seconds ---\n",
            "Epoch 10,                   Train:loss=0.0182, accuracy=99.7407%,                   Val: loss=0.0246, accuracy=98.9%\n",
            "--- 4678.82596206665 seconds ---\n",
            "Epoch 11,                   Train:loss=0.0181, accuracy=99.7815%,                   Val: loss=0.0249, accuracy=98.9%\n",
            "--- 5069.014480113983 seconds ---\n",
            "Epoch 12,                   Train:loss=0.0169, accuracy=99.8333%,                   Val: loss=0.0240, accuracy=98.9%\n",
            "--- 5459.095000267029 seconds ---\n",
            "Epoch 13,                   Train:loss=0.0154, accuracy=99.8889%,                   Val: loss=0.0229, accuracy=99.0%\n",
            "--- 5848.856448888779 seconds ---\n",
            "Epoch 14,                   Train:loss=0.0150, accuracy=99.8926%,                   Val: loss=0.0226, accuracy=99.0%\n",
            "--- 6238.759135961533 seconds ---\n",
            "Epoch 15,                   Train:loss=0.0141, accuracy=99.9278%,                   Val: loss=0.0217, accuracy=99.0%\n",
            "--- 6628.664344549179 seconds ---\n",
            "Epoch 16,                   Train:loss=0.0137, accuracy=99.9426%,                   Val: loss=0.0219, accuracy=99.0%\n",
            "--- 7018.653302431107 seconds ---\n",
            "Epoch 17,                   Train:loss=0.0131, accuracy=99.9537%,                   Val: loss=0.0212, accuracy=99.1%\n",
            "--- 7408.861348867416 seconds ---\n",
            "Epoch 18,                   Train:loss=0.0130, accuracy=99.9611%,                   Val: loss=0.0216, accuracy=98.9%\n",
            "--- 7798.847740411758 seconds ---\n",
            "Epoch 19,                   Train:loss=0.0122, accuracy=99.9741%,                   Val: loss=0.0204, accuracy=99.2%\n",
            "Best validation accuracy = 99.167\n"
          ],
          "name": "stdout"
        },
        {
          "output_type": "display_data",
          "data": {
            "image/png": "[encoded data removed]",
            "text/plain": [
              "<Figure size 432x288 with 1 Axes>"
            ]
          },
          "metadata": {
            "tags": [],
            "needs_background": "light"
          }
        },
        {
          "output_type": "display_data",
          "data": {
            "image/png": "[encoded data removed]",
            "text/plain": [
              "<Figure size 432x288 with 1 Axes>"
            ]
          },
          "metadata": {
            "tags": [],
            "needs_background": "light"
          }
        }
      ]
    },
    {
      "cell_type": "code",
      "metadata": {
        "colab": {
          "base_uri": "https://localhost:8080/"
        },
        "id": "6-5mGO7pgsSR",
        "outputId": "63e2d1dc-3bc9-4bbb-f430-bf94f607d104"
      },
      "source": [
        "\n",
        "accuracy_test, loss_test = accuracy_and_loss_whole_dataset(64,data_loader_test, best_model)\n",
        "print(\"Evaluation of the best training model over test set\")\n",
        "print(\"------\")\n",
        "print(f\"Loss : {loss_test:.3f}\")\n",
        "print(f\"Accuracy : {accuracy_test*100.:.3f}\")"
      ],
      "execution_count": null,
      "outputs": [
        {
          "output_type": "stream",
          "text": [
            "/usr/local/lib/python3.7/dist-packages/torch/nn/_reduction.py:42: UserWarning: size_average and reduce args will be deprecated, please use reduction='sum' instead.\n",
            "  warnings.warn(warning.format(ret))\n"
          ],
          "name": "stderr"
        },
        {
          "output_type": "stream",
          "text": [
            "Evaluation of the best training model over test set\n",
            "------\n",
            "Loss : 0.020\n",
            "Accuracy : 99.200\n"
          ],
          "name": "stdout"
        }
      ]
    },
    {
      "cell_type": "code",
      "metadata": {
        "id": "e_Oc-V5Y1ufp"
      },
      "source": [
        "failed = failed_sample(best_model)\n"
      ],
      "execution_count": null,
      "outputs": []
    },
    {
      "cell_type": "code",
      "metadata": {
        "colab": {
          "base_uri": "https://localhost:8080/",
          "height": 294
        },
        "id": "iwv_W03VvtG9",
        "outputId": "5dc3bd45-15c5-4e60-dd03-dc7e1ce6f09a"
      },
      "source": [
        "plot_reconstructed(failed)"
      ],
      "execution_count": null,
      "outputs": [
        {
          "output_type": "display_data",
          "data": {
            "image/png": "[encoded data removed]",
            "text/plain": [
              "<Figure size 1080x288 with 10 Axes>"
            ]
          },
          "metadata": {
            "tags": [],
            "needs_background": "light"
          }
        }
      ]
    },
    {
      "cell_type": "code",
      "metadata": {
        "id": "wygY4LL3RHDw"
      },
      "source": [
        "success = success_sample(best_model)"
      ],
      "execution_count": null,
      "outputs": []
    },
    {
      "cell_type": "code",
      "metadata": {
        "colab": {
          "base_uri": "https://localhost:8080/",
          "height": 294
        },
        "id": "xDXJM8QvRLEo",
        "outputId": "a79952ec-adc9-41d6-d389-a90900fbaee7"
      },
      "source": [
        "plot_reconstructed(success)"
      ],
      "execution_count": null,
      "outputs": [
        {
          "output_type": "display_data",
          "data": {
            "image/png": "[encoded data removed]",
            "text/plain": [
              "<Figure size 1080x288 with 10 Axes>"
            ]
          },
          "metadata": {
            "tags": [],
            "needs_background": "light"
          }
        }
      ]
    },
    {
      "cell_type": "code",
      "metadata": {
        "id": "-kfxmoc3u1jq"
      },
      "source": [
        "# The basline model (as is described in the paper )\n",
        "class BaseLine (nn.Module):\n",
        "    def __init__(self):\n",
        "        super(BaseLine, self).__init__()\n",
        "        self.conv_layers = nn.Sequential(\n",
        "             nn.Conv2d(1 , 256, 5,stride =1, padding=0 ).to(device),\n",
        "             nn.ReLU(),\n",
        "             nn.Conv2d(256 , 256, 5, stride =1, padding=0 ).to(device),\n",
        "             nn.ReLU(),\n",
        "             nn.Conv2d(256 , 128, 5,stride =1, padding=0 ).to(device),\n",
        "             nn.ReLU()\n",
        "\n",
        "\n",
        "        )\n",
        "        self.linear_layers =  nn.Sequential(\n",
        "             nn.Linear(128*16*16,328 ).to(device),\n",
        "             nn.ReLU(),\n",
        "             nn.Linear(328, 192).to(device),\n",
        "             nn.ReLU(),\n",
        "             nn.Linear(192,10).to(device),\n",
        "         \n",
        "        )\n",
        "\n",
        "    def forward(self, x):\n",
        "        x = self.conv_layers(x).view(x.size()[0],-1)\n",
        "        out = self.linear_layers(x)\n",
        "        return out\n",
        "    \n"
      ],
      "execution_count": null,
      "outputs": []
    },
    {
      "cell_type": "code",
      "metadata": {
        "id": "V8JTX7Ey8dcU"
      },
      "source": [
        "def train_baseLine( lr=0.01, nb_epochs=10, batch_size=64, seed=None):\n",
        "    global model\n",
        "    model = BaseLine()\n",
        "    import torch.optim as optim\n",
        "    criterion = nn.CrossEntropyLoss()\n",
        "    optimizer = optim.Adam(model.parameters(), lr=lr)\n",
        "    best_model = None\n",
        "    global data_loader_test\n",
        "    global data_loader_train\n",
        "    data_loader_train, data_loader_val, data_loader_test = get_mnist_dataloaders(0.1, batch_size=batch_size)\n",
        "    \n",
        "    best_val_accuracy = 0\n",
        "    logger = Logger()\n",
        "    import time\n",
        "    start_time = time.time()\n",
        "\n",
        "\n",
        "    for epoch in range(nb_epochs):\n",
        "        for batch_idx, (x, y) in enumerate(data_loader_train) :\n",
        "            \n",
        "            x=x.to(device=device)\n",
        "            y= y.to(device=device)\n",
        "            #y = torch.eye(10).index_select(dim=0, index=y).to(device)\n",
        "            #y= torch.tensor(y, dtype=torch.long, device=device)\n",
        "            y_pred = model(x)\n",
        "            loss = criterion(y_pred,y)\n",
        "            optimizer.zero_grad()\n",
        "            loss.backward()\n",
        "            optimizer.step()         \n",
        "            torch.cuda.empty_cache() \n",
        "        accuracy_train, loss_train = accuracy_and_loss_whole_dataset2(batch_size,data_loader_train, model)\n",
        "        accuracy_val, loss_val = accuracy_and_loss_whole_dataset2(batch_size, data_loader_val, model)\n",
        "        if accuracy_val  > best_val_accuracy: # select the best parameters based on the validation accuracy \n",
        "            best_model=copy.deepcopy(model)\n",
        "            best_val_accuracy=accuracy_val\n",
        "            pass  \n",
        "\n",
        "        logger.log(accuracy_train, loss_train, accuracy_val, loss_val)\n",
        "        if epoch % 1 == 0:\n",
        "          print(\"--- %s seconds ---\" % (time.time() - start_time))\n",
        "          print(f\"Epoch {epoch:2d}, \\\n",
        "                  Train:loss={loss_train.item():.4f}, accuracy={accuracy_train.item()*100:.4f}%, \\\n",
        "                  Val: loss={loss_val.item():.4f}, accuracy={accuracy_val.item()*100:.1f}%\", flush=True)\n",
        "        \n",
        "    return best_model, best_val_accuracy, logger"
      ],
      "execution_count": null,
      "outputs": []
    },
    {
      "cell_type": "code",
      "metadata": {
        "colab": {
          "base_uri": "https://localhost:8080/",
          "height": 1000
        },
        "id": "zNK0nxkQLoSm",
        "outputId": "78926e2b-d9b2-4cef-f341-e12adec218ad"
      },
      "source": [
        "best_model, best_val_accuracy, logger = train_baseLine( lr=0.0001, nb_epochs=20, batch_size=64, seed=None)\n",
        "\n",
        "\n",
        "logger.plot_loss()\n",
        "logger.plot_accuracy()\n",
        "print(f\"Best validation accuracy = {best_val_accuracy*100:.3f}\")"
      ],
      "execution_count": null,
      "outputs": [
        {
          "output_type": "stream",
          "text": [
            "--- 38.94760489463806 seconds ---\n",
            "Epoch  0,                   Train:loss=0.0532, accuracy=98.3685%,                   Val: loss=0.0608, accuracy=98.0%\n",
            "--- 80.7047049999237 seconds ---\n",
            "Epoch  1,                   Train:loss=0.0352, accuracy=98.9018%,                   Val: loss=0.0449, accuracy=98.6%\n",
            "--- 122.35503125190735 seconds ---\n",
            "Epoch  2,                   Train:loss=0.0155, accuracy=99.5278%,                   Val: loss=0.0306, accuracy=99.1%\n",
            "--- 163.83327960968018 seconds ---\n",
            "Epoch  3,                   Train:loss=0.0216, accuracy=99.3278%,                   Val: loss=0.0400, accuracy=98.7%\n",
            "--- 205.56536769866943 seconds ---\n",
            "Epoch  4,                   Train:loss=0.0100, accuracy=99.6889%,                   Val: loss=0.0277, accuracy=99.2%\n",
            "--- 246.92858123779297 seconds ---\n",
            "Epoch  5,                   Train:loss=0.0101, accuracy=99.6889%,                   Val: loss=0.0325, accuracy=98.9%\n",
            "--- 288.93321323394775 seconds ---\n",
            "Epoch  6,                   Train:loss=0.0097, accuracy=99.6611%,                   Val: loss=0.0346, accuracy=99.0%\n",
            "--- 329.95063495635986 seconds ---\n",
            "Epoch  7,                   Train:loss=0.0079, accuracy=99.7463%,                   Val: loss=0.0333, accuracy=99.1%\n",
            "--- 371.99674463272095 seconds ---\n",
            "Epoch  8,                   Train:loss=0.0068, accuracy=99.7926%,                   Val: loss=0.0310, accuracy=99.1%\n",
            "--- 413.0760271549225 seconds ---\n",
            "Epoch  9,                   Train:loss=0.0168, accuracy=99.4185%,                   Val: loss=0.0510, accuracy=98.6%\n",
            "--- 454.6640751361847 seconds ---\n",
            "Epoch 10,                   Train:loss=0.0084, accuracy=99.7056%,                   Val: loss=0.0486, accuracy=98.7%\n",
            "--- 495.73278045654297 seconds ---\n",
            "Epoch 11,                   Train:loss=0.0031, accuracy=99.8944%,                   Val: loss=0.0332, accuracy=99.2%\n",
            "--- 537.4536557197571 seconds ---\n",
            "Epoch 12,                   Train:loss=0.0026, accuracy=99.9148%,                   Val: loss=0.0327, accuracy=99.2%\n",
            "--- 578.5096514225006 seconds ---\n",
            "Epoch 13,                   Train:loss=0.0028, accuracy=99.9056%,                   Val: loss=0.0298, accuracy=99.2%\n",
            "--- 620.0552697181702 seconds ---\n",
            "Epoch 14,                   Train:loss=0.0040, accuracy=99.8574%,                   Val: loss=0.0367, accuracy=99.1%\n",
            "--- 661.1449830532074 seconds ---\n",
            "Epoch 15,                   Train:loss=0.0008, accuracy=99.9833%,                   Val: loss=0.0264, accuracy=99.4%\n",
            "--- 703.1791715621948 seconds ---\n",
            "Epoch 16,                   Train:loss=0.0010, accuracy=99.9722%,                   Val: loss=0.0344, accuracy=99.3%\n",
            "--- 744.2142679691315 seconds ---\n",
            "Epoch 17,                   Train:loss=0.0034, accuracy=99.8833%,                   Val: loss=0.0439, accuracy=99.0%\n",
            "--- 785.8398995399475 seconds ---\n",
            "Epoch 18,                   Train:loss=0.0006, accuracy=99.9852%,                   Val: loss=0.0293, accuracy=99.3%\n",
            "--- 827.0626504421234 seconds ---\n",
            "Epoch 19,                   Train:loss=0.0014, accuracy=99.9556%,                   Val: loss=0.0369, accuracy=99.1%\n",
            "Best validation accuracy = 99.400\n"
          ],
          "name": "stdout"
        },
        {
          "output_type": "display_data",
          "data": {
            "image/png": "[encoded data removed]",
            "text/plain": [
              "<Figure size 432x288 with 1 Axes>"
            ]
          },
          "metadata": {
            "tags": [],
            "needs_background": "light"
          }
        },
        {
          "output_type": "display_data",
          "data": {
            "image/png": "[encoded data removed]",
            "text/plain": [
              "<Figure size 432x288 with 1 Axes>"
            ]
          },
          "metadata": {
            "tags": [],
            "needs_background": "light"
          }
        }
      ]
    },
    {
      "cell_type": "code",
      "metadata": {
        "id": "ntzCgdGs8_S5"
      },
      "source": [
        ""
      ],
      "execution_count": null,
      "outputs": []
    },
    {
      "cell_type": "code",
      "metadata": {
        "colab": {
          "base_uri": "https://localhost:8080/"
        },
        "id": "Ke4VsSRHCYlw",
        "outputId": "b2957443-2443-4309-d8ee-468b64ec9ad5"
      },
      "source": [
        "\n",
        "accuracy_test, loss_test = accuracy_and_loss_whole_dataset2(128,data_loader_test, best_model)\n",
        "print(\"Evaluation of the best training model over test set\")\n",
        "print(\"------\")\n",
        "print(f\"Loss : {loss_test:.3f}\")\n",
        "print(f\"Accuracy : {accuracy_test*100.:.3f}\")"
      ],
      "execution_count": null,
      "outputs": [
        {
          "output_type": "stream",
          "text": [
            "Evaluation of the best training model over test set\n",
            "------\n",
            "Loss : 0.037\n",
            "Accuracy : 99.150\n"
          ],
          "name": "stdout"
        }
      ]
    }
  ]
}